{
 "cells": [
  {
   "cell_type": "code",
   "execution_count": 1,
   "metadata": {},
   "outputs": [],
   "source": [
    "def gathering(query):\n",
    "    from bioservices import UniProt\n",
    "    \n",
    "    # Import BeautifulSoup, a package specialized for interpreting xml data\n",
    "    from bs4 import BeautifulSoup\n",
    "\n",
    "    # These packages need to be installed before being imported. If you have pip, then use\n",
    "    # $ pip install beautifulsoup\n",
    "    # $ pip install bioservices\n",
    "\n",
    "    # Import itertools for efficient looping\n",
    "    from itertools import groupby\n",
    "    # Import numpy for efficient array/math functions\n",
    "    import numpy as np\n",
    "    from numpy import floor\n",
    "    \n",
    "    service = UniProt() \n",
    "    result_xml = service.search(query, frmt=\"xml\")\n",
    "    soup = BeautifulSoup(result_xml, 'html.parser') # xml \"soup\" object\n",
    "    \n",
    "    featureFH1 = soup.find_all('feature', description='FH1')\n",
    "    \n",
    "    # note the following code assumes there is one (and only one) annoted FH1 in this structure\n",
    "\n",
    "    if len(featureFH1) == 0:\n",
    "        print('No FH1 domain in this protein')\n",
    "\n",
    "\n",
    "\n",
    "    beginPosition = int(featureFH1[0].find('location').find('begin').get('position'))\n",
    "    endPosition = int(featureFH1[0].find('location').find('end').get('position'))\n",
    "\n",
    "    lengthOfFH1 = endPosition-beginPosition+1\n",
    "    \n",
    "    if lengthOfFH1 == 0:\n",
    "        print('error')\n",
    "    #print(lengthOfFH1)\n",
    "    \n",
    "    soup_sequences = soup.find_all('sequence')\n",
    "    soup_sequence = soup_sequences[-1].get_text();\n",
    "    #print(soup_sequences)\n",
    "    #print(soup_sequence)\n",
    "     #script to display index and number of prolines in each PP sequence. Also returns \n",
    "        #vectors containing each information for ease of plotting\n",
    "\n",
    "\n",
    "    soup_sequence = soup_sequence.replace(\"\\n\", \"\").replace(\"\\r\",\"\") # gets rid of newline and line breaks in string \n",
    "    fh1_sequence = soup_sequence[beginPosition-1:endPosition] #specifiying FH1 domain\n",
    "    fh1_sequence = fh1_sequence[::-1] #reverses string sequence\n",
    "    #print(fh1_sequence)\n",
    "\n",
    "    displayIndex = 0 # index used for poly_proline sequence\n",
    "    index = 0 # regular indexing \n",
    "\n",
    "    pp_index_vec = [] # poly-proline vector for storing index\n",
    "    pp_length_vec = [] # poly-proline vector for storing length\n",
    "\n",
    "    fh1_length = len(fh1_sequence)\n",
    "    fh1_length = float(fh1_length)\n",
    "    #print(f'\\nLength of entire sequence is {fh1_length}')\n",
    "\n",
    "\n",
    "    seq = (groupby(fh1_sequence)); # group string by letter\n",
    "\n",
    "    for (k,g) in seq:\n",
    "        length_seq = len(list(g)) # length of poly_proline sequence\n",
    "        if k=='P' and length_seq >1: # for indexing, refer to report\n",
    "            if length_seq%2 == 0: \n",
    "                displayIndex = floor ((length_seq) / 2 ) - 1 + index \n",
    "                pp_index_vec.append(displayIndex)\n",
    "                pp_length_vec.append(length_seq)\n",
    "            else:\n",
    "                displayIndex = floor ((length_seq) / 2 ) + index\n",
    "                pp_index_vec.append(displayIndex)\n",
    "                pp_length_vec.append(length_seq)\n",
    "        index += length_seq\n",
    "        \n",
    "    pp_length_vec = [float(i) for i in pp_length_vec]\n",
    "        \n",
    "    #print(f'\\nPoly_proline index vector:{pp_index_vec}')\n",
    "    #print(f'\\nPoly_proline length vector: {pp_length_vec}')\n",
    "    \n",
    "    return fh1_length, pp_index_vec, pp_length_vec"
   ]
  },
  {
   "cell_type": "code",
   "execution_count": 4,
   "metadata": {},
   "outputs": [
    {
     "data": {
      "text/plain": [
       "(81.0, [8.0, 23.0, 36.0, 53.0, 71.0], [6.0, 6.0, 9.0, 14.0, 9.0])"
      ]
     },
     "execution_count": 4,
     "metadata": {},
     "output_type": "execute_result"
    }
   ],
   "source": [
    "#test case\n",
    "# Q24120 = Capu\n",
    "gathering('Q24120')"
   ]
  },
  {
   "cell_type": "code",
   "execution_count": null,
   "metadata": {},
   "outputs": [],
   "source": []
  },
  {
   "cell_type": "code",
   "execution_count": null,
   "metadata": {},
   "outputs": [],
   "source": []
  }
 ],
 "metadata": {
  "kernelspec": {
   "display_name": "Python 3",
   "language": "python",
   "name": "python3"
  },
  "language_info": {
   "codemirror_mode": {
    "name": "ipython",
    "version": 3
   },
   "file_extension": ".py",
   "mimetype": "text/x-python",
   "name": "python",
   "nbconvert_exporter": "python",
   "pygments_lexer": "ipython3",
   "version": "3.8.5"
  }
 },
 "nbformat": 4,
 "nbformat_minor": 2
}
